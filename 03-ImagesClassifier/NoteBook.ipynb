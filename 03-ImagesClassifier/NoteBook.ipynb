{
 "cells": [
  {
   "cell_type": "markdown",
   "metadata": {},
   "source": [
    "# MSBD5002 Assignment 3: Unsupervised learning of Images Segmentation"
   ]
  },
  {
   "cell_type": "markdown",
   "metadata": {},
   "source": [
    "## Preparation"
   ]
  },
  {
   "cell_type": "markdown",
   "metadata": {},
   "source": [
    "### Import Packages & Files"
   ]
  },
  {
   "cell_type": "code",
   "execution_count": 2,
   "metadata": {},
   "outputs": [],
   "source": [
    "# Magic functions\n",
    "% matplotlib inline\n",
    "\n",
    "import time\n",
    "import os, os.path\n",
    "import random\n",
    "import cv2\n",
    "import glob\n",
    "import matplotlib\n",
    "import matplotlib.pyplot as plt\n",
    "import pandas as pd\n",
    "import numpy as np\n",
    "\n",
    "# PIL\n",
    "from IPython.display import display\n",
    "from PIL import Image\n"
   ]
  },
  {
   "cell_type": "markdown",
   "metadata": {},
   "source": [
    "### Load images"
   ]
  },
  {
   "cell_type": "code",
   "execution_count": 3,
   "metadata": {},
   "outputs": [],
   "source": [
    "# import images\n",
    "def loadImageNames(dir_path):\n",
    "    images_dict = []\n",
    "    file_names = [file for file in os.listdir(dir_path)]\n",
    "    file_names.sort(reverse=False)\n",
    "    file_count = len(file_names)\n",
    "    for name in file_names:\n",
    "        images_dict.append({\"names\": name})\n",
    "    \n",
    "    df = pd.DataFrame(images_dict)\n",
    "    return df"
   ]
  },
  {
   "cell_type": "code",
   "execution_count": 5,
   "metadata": {},
   "outputs": [
    {
     "data": {
      "text/html": [
       "<div>\n",
       "<style scoped>\n",
       "    .dataframe tbody tr th:only-of-type {\n",
       "        vertical-align: middle;\n",
       "    }\n",
       "\n",
       "    .dataframe tbody tr th {\n",
       "        vertical-align: top;\n",
       "    }\n",
       "\n",
       "    .dataframe thead th {\n",
       "        text-align: right;\n",
       "    }\n",
       "</style>\n",
       "<table border=\"1\" class=\"dataframe\">\n",
       "  <thead>\n",
       "    <tr style=\"text-align: right;\">\n",
       "      <th></th>\n",
       "      <th>names</th>\n",
       "    </tr>\n",
       "  </thead>\n",
       "  <tbody>\n",
       "    <tr>\n",
       "      <th>0</th>\n",
       "      <td>00000.jpg</td>\n",
       "    </tr>\n",
       "    <tr>\n",
       "      <th>1</th>\n",
       "      <td>00001.jpg</td>\n",
       "    </tr>\n",
       "    <tr>\n",
       "      <th>2</th>\n",
       "      <td>00002.jpg</td>\n",
       "    </tr>\n",
       "    <tr>\n",
       "      <th>3</th>\n",
       "      <td>00003.jpg</td>\n",
       "    </tr>\n",
       "    <tr>\n",
       "      <th>4</th>\n",
       "      <td>00004.jpg</td>\n",
       "    </tr>\n",
       "  </tbody>\n",
       "</table>\n",
       "</div>"
      ],
      "text/plain": [
       "       names\n",
       "0  00000.jpg\n",
       "1  00001.jpg\n",
       "2  00002.jpg\n",
       "3  00003.jpg\n",
       "4  00004.jpg"
      ]
     },
     "execution_count": 5,
     "metadata": {},
     "output_type": "execute_result"
    }
   ],
   "source": [
    "img_dir_path = './images'\n",
    "img_names_df = loadImageNames(img_dir_path)\n",
    "img_names_df.head()"
   ]
  },
  {
   "cell_type": "markdown",
   "metadata": {},
   "source": [
    "## Features extraction by CovNets"
   ]
  },
  {
   "cell_type": "code",
   "execution_count": 6,
   "metadata": {},
   "outputs": [
    {
     "name": "stderr",
     "output_type": "stream",
     "text": [
      "Using TensorFlow backend.\n"
     ]
    }
   ],
   "source": [
    "# Keras\n",
    "import keras\n",
    "from keras.preprocessing import image as KerasImage\n",
    "\n",
    "def predictImages(model, size, preprocess, decode_pred):\n",
    "    '''\n",
    "    Description: This function is mainly for predicting the types of the images\n",
    "    Parameters:\n",
    "        @model: the CovNet model used for prediction\n",
    "        @size:  the size of the image for the ConNet\n",
    "        @preprocess: the specific 'preprocess_input' function of the CovNet\n",
    "        @decode_pred: the specific 'decode_prediction' function of the CovNet\n",
    "    '''\n",
    "    preds_arr = []\n",
    "    n = len(img_names_df)\n",
    "    n = 10\n",
    "    \n",
    "    # time calculation\n",
    "    start = time.time()\n",
    "    \n",
    "    for name in img_names_df['names'][:n]:\n",
    "        # Load the image\n",
    "        path = os.path.join(img_dir_path, name)\n",
    "        img = KerasImage.load_img(path, target_size=(size, size))\n",
    "        \n",
    "        # Preprocess the image\n",
    "        x = KerasImage.img_to_array(img)\n",
    "        x = np.expand_dims(x, axis=0)\n",
    "        x = preprocess(x)\n",
    "\n",
    "        preds = model.predict(x)\n",
    "        \n",
    "        # Add the prediction to dataframe\n",
    "        row = []\n",
    "        for result in decode_pred(preds, top=3)[0]:\n",
    "            # append class name\n",
    "            row.append(result[1])\n",
    "            \n",
    "            # append class prediction probability\n",
    "            row.append(result[2])\n",
    "            \n",
    "        # Add row to the prediction array\n",
    "        preds_arr.append(row)\n",
    "    \n",
    "    # total time\n",
    "    end = time.time()\n",
    "    print(\"Prediction time: {}\".format(end - start))\n",
    "    \n",
    "     # transform to DataFrame\n",
    "    indice = list(img_names_df['names'].str.replace(\".jpg\", \"\"))\n",
    "    columns = [\"class1\", \"P(class1)\", \"class2\", \"P(class2)\", \"class3\", \"P(class3)\"]\n",
    "    preds_df = pd.DataFrame(preds_arr, index=indice[:n], columns=columns)\n",
    "    \n",
    "    return preds_df"
   ]
  },
  {
   "cell_type": "code",
   "execution_count": 8,
   "metadata": {},
   "outputs": [],
   "source": [
    "def featuresExtraction(model, size, preprocess):\n",
    "    '''\n",
    "    Description: This function is mainly for features extraction of the images\n",
    "    Parameters:\n",
    "        @model: the CovNet model used for prediction\n",
    "        @size:  the size of the image for the ConNet\n",
    "        @preprocess: the specific 'preprocess_input' function of the CovNet\n",
    "    '''\n",
    "    features_arr = []\n",
    "    n = len(img_names_df)\n",
    "#     n = 10\n",
    "\n",
    "    # time calculation\n",
    "    start = time.time()\n",
    "    \n",
    "    for name in img_names_df['names'][:n]:\n",
    "        # Load the image\n",
    "        path = os.path.join(img_dir_path, name)\n",
    "        img = KerasImage.load_img(path, target_size=(size, size))\n",
    "        \n",
    "        # Preprocess the image\n",
    "        x = KerasImage.img_to_array(img)\n",
    "        x = np.expand_dims(x, axis=0)\n",
    "        x = preprocess(x)\n",
    "\n",
    "        # Extract features\n",
    "        features = model.predict(x)\n",
    "        \n",
    "        # Flatten the array\n",
    "        flat_features = features.flatten()\n",
    "        \n",
    "        # Add the features to array\n",
    "        features_arr.append(flat_features)\n",
    "        \n",
    "    # get the total time\n",
    "    end = time.time()\n",
    "    total_minutes = float(end - start) / 60.\n",
    "    print(\"Features extraction minutes: {}\".format(total_minutes))\n",
    "    \n",
    "    # transform the array to dataframe\n",
    "#     features_df = pd.DataFrame(features_arr)\n",
    "    \n",
    "    return features_arr\n"
   ]
  },
  {
   "cell_type": "markdown",
   "metadata": {},
   "source": [
    "### VGG16"
   ]
  },
  {
   "cell_type": "code",
   "execution_count": 86,
   "metadata": {},
   "outputs": [],
   "source": [
    "# import modules\n",
    "from keras.applications.vgg16 import decode_predictions as vgg16_decode\n",
    "from keras.applications.vgg16 import preprocess_input as vgg16_preprocess\n",
    "from keras.applications.vgg16 import VGG16\n",
    "\n",
    "# define the size\n",
    "vgg16_size = 224\n"
   ]
  },
  {
   "cell_type": "code",
   "execution_count": 28,
   "metadata": {},
   "outputs": [
    {
     "name": "stdout",
     "output_type": "stream",
     "text": [
      "Downloading data from https://github.com/fchollet/deep-learning-models/releases/download/v0.1/vgg16_weights_tf_dim_ordering_tf_kernels.h5\n",
      "553467904/553467096 [==============================] - 481s 1us/step\n"
     ]
    },
    {
     "data": {
      "text/html": [
       "<div>\n",
       "<style scoped>\n",
       "    .dataframe tbody tr th:only-of-type {\n",
       "        vertical-align: middle;\n",
       "    }\n",
       "\n",
       "    .dataframe tbody tr th {\n",
       "        vertical-align: top;\n",
       "    }\n",
       "\n",
       "    .dataframe thead th {\n",
       "        text-align: right;\n",
       "    }\n",
       "</style>\n",
       "<table border=\"1\" class=\"dataframe\">\n",
       "  <thead>\n",
       "    <tr style=\"text-align: right;\">\n",
       "      <th></th>\n",
       "      <th>class1</th>\n",
       "      <th>P(class1)</th>\n",
       "      <th>class2</th>\n",
       "      <th>P(class2)</th>\n",
       "      <th>class3</th>\n",
       "      <th>P(class3)</th>\n",
       "    </tr>\n",
       "  </thead>\n",
       "  <tbody>\n",
       "    <tr>\n",
       "      <th>00000</th>\n",
       "      <td>peacock</td>\n",
       "      <td>0.377568</td>\n",
       "      <td>vulture</td>\n",
       "      <td>0.232632</td>\n",
       "      <td>black_stork</td>\n",
       "      <td>0.100799</td>\n",
       "    </tr>\n",
       "    <tr>\n",
       "      <th>00001</th>\n",
       "      <td>patio</td>\n",
       "      <td>0.446481</td>\n",
       "      <td>boathouse</td>\n",
       "      <td>0.207077</td>\n",
       "      <td>canoe</td>\n",
       "      <td>0.056574</td>\n",
       "    </tr>\n",
       "    <tr>\n",
       "      <th>00002</th>\n",
       "      <td>goose</td>\n",
       "      <td>0.124013</td>\n",
       "      <td>Indian_cobra</td>\n",
       "      <td>0.113438</td>\n",
       "      <td>drake</td>\n",
       "      <td>0.066087</td>\n",
       "    </tr>\n",
       "    <tr>\n",
       "      <th>00003</th>\n",
       "      <td>canoe</td>\n",
       "      <td>0.870046</td>\n",
       "      <td>sandbar</td>\n",
       "      <td>0.033237</td>\n",
       "      <td>paddle</td>\n",
       "      <td>0.025013</td>\n",
       "    </tr>\n",
       "    <tr>\n",
       "      <th>00004</th>\n",
       "      <td>electric_guitar</td>\n",
       "      <td>0.098362</td>\n",
       "      <td>shopping_basket</td>\n",
       "      <td>0.071063</td>\n",
       "      <td>shopping_cart</td>\n",
       "      <td>0.070547</td>\n",
       "    </tr>\n",
       "    <tr>\n",
       "      <th>00005</th>\n",
       "      <td>ruffed_grouse</td>\n",
       "      <td>0.162827</td>\n",
       "      <td>jay</td>\n",
       "      <td>0.120861</td>\n",
       "      <td>quail</td>\n",
       "      <td>0.119565</td>\n",
       "    </tr>\n",
       "    <tr>\n",
       "      <th>00006</th>\n",
       "      <td>bearskin</td>\n",
       "      <td>0.126168</td>\n",
       "      <td>bubble</td>\n",
       "      <td>0.043872</td>\n",
       "      <td>gong</td>\n",
       "      <td>0.036369</td>\n",
       "    </tr>\n",
       "    <tr>\n",
       "      <th>00007</th>\n",
       "      <td>space_heater</td>\n",
       "      <td>0.397165</td>\n",
       "      <td>radiator</td>\n",
       "      <td>0.130882</td>\n",
       "      <td>printer</td>\n",
       "      <td>0.031022</td>\n",
       "    </tr>\n",
       "    <tr>\n",
       "      <th>00008</th>\n",
       "      <td>Siamese_cat</td>\n",
       "      <td>0.997221</td>\n",
       "      <td>Egyptian_cat</td>\n",
       "      <td>0.002413</td>\n",
       "      <td>Chihuahua</td>\n",
       "      <td>0.000187</td>\n",
       "    </tr>\n",
       "    <tr>\n",
       "      <th>00009</th>\n",
       "      <td>drilling_platform</td>\n",
       "      <td>0.491829</td>\n",
       "      <td>fireboat</td>\n",
       "      <td>0.204176</td>\n",
       "      <td>container_ship</td>\n",
       "      <td>0.052577</td>\n",
       "    </tr>\n",
       "  </tbody>\n",
       "</table>\n",
       "</div>"
      ],
      "text/plain": [
       "                  class1  P(class1)           class2  P(class2)  \\\n",
       "00000            peacock   0.377568          vulture   0.232632   \n",
       "00001              patio   0.446481        boathouse   0.207077   \n",
       "00002              goose   0.124013     Indian_cobra   0.113438   \n",
       "00003              canoe   0.870046          sandbar   0.033237   \n",
       "00004    electric_guitar   0.098362  shopping_basket   0.071063   \n",
       "00005      ruffed_grouse   0.162827              jay   0.120861   \n",
       "00006           bearskin   0.126168           bubble   0.043872   \n",
       "00007       space_heater   0.397165         radiator   0.130882   \n",
       "00008        Siamese_cat   0.997221     Egyptian_cat   0.002413   \n",
       "00009  drilling_platform   0.491829         fireboat   0.204176   \n",
       "\n",
       "               class3  P(class3)  \n",
       "00000     black_stork   0.100799  \n",
       "00001           canoe   0.056574  \n",
       "00002           drake   0.066087  \n",
       "00003          paddle   0.025013  \n",
       "00004   shopping_cart   0.070547  \n",
       "00005           quail   0.119565  \n",
       "00006            gong   0.036369  \n",
       "00007         printer   0.031022  \n",
       "00008       Chihuahua   0.000187  \n",
       "00009  container_ship   0.052577  "
      ]
     },
     "metadata": {},
     "output_type": "display_data"
    }
   ],
   "source": [
    "# Predict the images' class\n",
    "vgg16_predictor = VGG16(include_top=True, weights='imagenet')\n",
    "vgg16_predictions = predictImages(model=vgg16_predictor,\n",
    "                                   size=vgg16_size,\n",
    "                                   preprocess=vgg16_preprocess,\n",
    "                                   decode_pred=vgg16_decode)\n",
    "display(vgg16_predictions)"
   ]
  },
  {
   "cell_type": "code",
   "execution_count": 87,
   "metadata": {},
   "outputs": [],
   "source": [
    "# Features extraction\n",
    "vgg16_transformer = VGG16(weights=\"imagenet\", include_top=False)\n"
   ]
  },
  {
   "cell_type": "code",
   "execution_count": null,
   "metadata": {},
   "outputs": [],
   "source": [
    "vgg16_features = featuresExtraction(vgg16_transformer, vgg16_size, vgg16_preprocess)"
   ]
  },
  {
   "cell_type": "markdown",
   "metadata": {},
   "source": [
    "### ResNet50"
   ]
  },
  {
   "cell_type": "code",
   "execution_count": 9,
   "metadata": {},
   "outputs": [],
   "source": [
    "# import modules\n",
    "from keras.applications.resnet50 import ResNet50\n",
    "from keras.applications.resnet50 import preprocess_input as resnet_preprocess\n",
    "from keras.applications.resnet50 import decode_predictions as resnet_decode\n",
    "\n",
    "# define the image size\n",
    "resnet_size = 224\n"
   ]
  },
  {
   "cell_type": "code",
   "execution_count": 10,
   "metadata": {},
   "outputs": [
    {
     "name": "stdout",
     "output_type": "stream",
     "text": [
      "Prediction time: 1.57790207862854\n"
     ]
    },
    {
     "data": {
      "text/html": [
       "<div>\n",
       "<style scoped>\n",
       "    .dataframe tbody tr th:only-of-type {\n",
       "        vertical-align: middle;\n",
       "    }\n",
       "\n",
       "    .dataframe tbody tr th {\n",
       "        vertical-align: top;\n",
       "    }\n",
       "\n",
       "    .dataframe thead th {\n",
       "        text-align: right;\n",
       "    }\n",
       "</style>\n",
       "<table border=\"1\" class=\"dataframe\">\n",
       "  <thead>\n",
       "    <tr style=\"text-align: right;\">\n",
       "      <th></th>\n",
       "      <th>class1</th>\n",
       "      <th>P(class1)</th>\n",
       "      <th>class2</th>\n",
       "      <th>P(class2)</th>\n",
       "      <th>class3</th>\n",
       "      <th>P(class3)</th>\n",
       "    </tr>\n",
       "  </thead>\n",
       "  <tbody>\n",
       "    <tr>\n",
       "      <th>00000</th>\n",
       "      <td>black_stork</td>\n",
       "      <td>0.312974</td>\n",
       "      <td>vulture</td>\n",
       "      <td>0.126175</td>\n",
       "      <td>koala</td>\n",
       "      <td>0.110224</td>\n",
       "    </tr>\n",
       "    <tr>\n",
       "      <th>00001</th>\n",
       "      <td>barrow</td>\n",
       "      <td>0.371255</td>\n",
       "      <td>grand_piano</td>\n",
       "      <td>0.210058</td>\n",
       "      <td>patio</td>\n",
       "      <td>0.141288</td>\n",
       "    </tr>\n",
       "    <tr>\n",
       "      <th>00002</th>\n",
       "      <td>slug</td>\n",
       "      <td>0.734239</td>\n",
       "      <td>boa_constrictor</td>\n",
       "      <td>0.040971</td>\n",
       "      <td>quail</td>\n",
       "      <td>0.036241</td>\n",
       "    </tr>\n",
       "    <tr>\n",
       "      <th>00003</th>\n",
       "      <td>canoe</td>\n",
       "      <td>0.634652</td>\n",
       "      <td>paddle</td>\n",
       "      <td>0.220948</td>\n",
       "      <td>speedboat</td>\n",
       "      <td>0.089380</td>\n",
       "    </tr>\n",
       "    <tr>\n",
       "      <th>00004</th>\n",
       "      <td>shopping_cart</td>\n",
       "      <td>0.151699</td>\n",
       "      <td>shopping_basket</td>\n",
       "      <td>0.097454</td>\n",
       "      <td>spatula</td>\n",
       "      <td>0.090211</td>\n",
       "    </tr>\n",
       "    <tr>\n",
       "      <th>00005</th>\n",
       "      <td>African_grey</td>\n",
       "      <td>0.645125</td>\n",
       "      <td>mongoose</td>\n",
       "      <td>0.078653</td>\n",
       "      <td>eel</td>\n",
       "      <td>0.044929</td>\n",
       "    </tr>\n",
       "    <tr>\n",
       "      <th>00006</th>\n",
       "      <td>cowboy_hat</td>\n",
       "      <td>0.231403</td>\n",
       "      <td>abaya</td>\n",
       "      <td>0.128040</td>\n",
       "      <td>harmonica</td>\n",
       "      <td>0.041996</td>\n",
       "    </tr>\n",
       "    <tr>\n",
       "      <th>00007</th>\n",
       "      <td>groenendael</td>\n",
       "      <td>0.510088</td>\n",
       "      <td>schipperke</td>\n",
       "      <td>0.132408</td>\n",
       "      <td>radiator</td>\n",
       "      <td>0.076450</td>\n",
       "    </tr>\n",
       "    <tr>\n",
       "      <th>00008</th>\n",
       "      <td>Siamese_cat</td>\n",
       "      <td>0.995259</td>\n",
       "      <td>window_screen</td>\n",
       "      <td>0.002817</td>\n",
       "      <td>Egyptian_cat</td>\n",
       "      <td>0.001019</td>\n",
       "    </tr>\n",
       "    <tr>\n",
       "      <th>00009</th>\n",
       "      <td>drilling_platform</td>\n",
       "      <td>0.962140</td>\n",
       "      <td>container_ship</td>\n",
       "      <td>0.008455</td>\n",
       "      <td>liner</td>\n",
       "      <td>0.006559</td>\n",
       "    </tr>\n",
       "  </tbody>\n",
       "</table>\n",
       "</div>"
      ],
      "text/plain": [
       "                  class1  P(class1)           class2  P(class2)        class3  \\\n",
       "00000        black_stork   0.312974          vulture   0.126175         koala   \n",
       "00001             barrow   0.371255      grand_piano   0.210058         patio   \n",
       "00002               slug   0.734239  boa_constrictor   0.040971         quail   \n",
       "00003              canoe   0.634652           paddle   0.220948     speedboat   \n",
       "00004      shopping_cart   0.151699  shopping_basket   0.097454       spatula   \n",
       "00005       African_grey   0.645125         mongoose   0.078653           eel   \n",
       "00006         cowboy_hat   0.231403            abaya   0.128040     harmonica   \n",
       "00007        groenendael   0.510088       schipperke   0.132408      radiator   \n",
       "00008        Siamese_cat   0.995259    window_screen   0.002817  Egyptian_cat   \n",
       "00009  drilling_platform   0.962140   container_ship   0.008455         liner   \n",
       "\n",
       "       P(class3)  \n",
       "00000   0.110224  \n",
       "00001   0.141288  \n",
       "00002   0.036241  \n",
       "00003   0.089380  \n",
       "00004   0.090211  \n",
       "00005   0.044929  \n",
       "00006   0.041996  \n",
       "00007   0.076450  \n",
       "00008   0.001019  \n",
       "00009   0.006559  "
      ]
     },
     "metadata": {},
     "output_type": "display_data"
    }
   ],
   "source": [
    "# Predict the images' class\n",
    "resnet_predictor = ResNet50(include_top=True, weights='imagenet')\n",
    "resnet_predictions = predictImages(model=resnet_predictor,\n",
    "                                   size=resnet_size,\n",
    "                                   preprocess=resnet_preprocess,\n",
    "                                   decode_pred=resnet_decode)\n",
    "display(resnet_predictions)"
   ]
  },
  {
   "cell_type": "code",
   "execution_count": 11,
   "metadata": {},
   "outputs": [
    {
     "name": "stderr",
     "output_type": "stream",
     "text": [
      "/Users/zhengdongjia/anaconda2/envs/tensorflow/lib/python3.5/site-packages/keras_applications/resnet50.py:263: UserWarning: The output shape of `ResNet50(include_top=False)` has been changed since Keras 2.2.0.\n",
      "  warnings.warn('The output shape of `ResNet50(include_top=False)` '\n"
     ]
    }
   ],
   "source": [
    "# Features extraction\n",
    "resnet_transformer = ResNet50(weights=\"imagenet\", include_top=False)"
   ]
  },
  {
   "cell_type": "code",
   "execution_count": 83,
   "metadata": {},
   "outputs": [
    {
     "name": "stdout",
     "output_type": "stream",
     "text": [
      "Features extraction minutes: 9.532294698556264\n"
     ]
    }
   ],
   "source": [
    "resnet_features = featuresExtraction(resnet_transformer, resnet_size, resnet_preprocess)"
   ]
  },
  {
   "cell_type": "markdown",
   "metadata": {},
   "source": [
    "### Xception"
   ]
  },
  {
   "cell_type": "code",
   "execution_count": 14,
   "metadata": {},
   "outputs": [],
   "source": [
    "# import modules\n",
    "from keras.applications.xception import Xception\n",
    "from keras.applications.xception import preprocess_input as xception_preprocess\n",
    "from keras.applications.xception import decode_predictions as xception_decode\n",
    "\n",
    "# define the image size\n",
    "xception_size = 299"
   ]
  },
  {
   "cell_type": "code",
   "execution_count": 25,
   "metadata": {},
   "outputs": [
    {
     "data": {
      "text/html": [
       "<div>\n",
       "<style scoped>\n",
       "    .dataframe tbody tr th:only-of-type {\n",
       "        vertical-align: middle;\n",
       "    }\n",
       "\n",
       "    .dataframe tbody tr th {\n",
       "        vertical-align: top;\n",
       "    }\n",
       "\n",
       "    .dataframe thead th {\n",
       "        text-align: right;\n",
       "    }\n",
       "</style>\n",
       "<table border=\"1\" class=\"dataframe\">\n",
       "  <thead>\n",
       "    <tr style=\"text-align: right;\">\n",
       "      <th></th>\n",
       "      <th>class1</th>\n",
       "      <th>P(class1)</th>\n",
       "      <th>class2</th>\n",
       "      <th>P(class2)</th>\n",
       "      <th>class3</th>\n",
       "      <th>P(class3)</th>\n",
       "    </tr>\n",
       "  </thead>\n",
       "  <tbody>\n",
       "    <tr>\n",
       "      <th>00000</th>\n",
       "      <td>black_stork</td>\n",
       "      <td>0.281189</td>\n",
       "      <td>limpkin</td>\n",
       "      <td>0.138756</td>\n",
       "      <td>white_stork</td>\n",
       "      <td>0.137013</td>\n",
       "    </tr>\n",
       "    <tr>\n",
       "      <th>00001</th>\n",
       "      <td>patio</td>\n",
       "      <td>0.507141</td>\n",
       "      <td>horse_cart</td>\n",
       "      <td>0.101965</td>\n",
       "      <td>oxcart</td>\n",
       "      <td>0.070453</td>\n",
       "    </tr>\n",
       "    <tr>\n",
       "      <th>00002</th>\n",
       "      <td>kite</td>\n",
       "      <td>0.734416</td>\n",
       "      <td>goldfinch</td>\n",
       "      <td>0.020303</td>\n",
       "      <td>macaw</td>\n",
       "      <td>0.013203</td>\n",
       "    </tr>\n",
       "    <tr>\n",
       "      <th>00003</th>\n",
       "      <td>speedboat</td>\n",
       "      <td>0.366849</td>\n",
       "      <td>paddle</td>\n",
       "      <td>0.304516</td>\n",
       "      <td>canoe</td>\n",
       "      <td>0.056017</td>\n",
       "    </tr>\n",
       "    <tr>\n",
       "      <th>00004</th>\n",
       "      <td>shopping_basket</td>\n",
       "      <td>0.543007</td>\n",
       "      <td>hamper</td>\n",
       "      <td>0.077754</td>\n",
       "      <td>tricycle</td>\n",
       "      <td>0.045767</td>\n",
       "    </tr>\n",
       "    <tr>\n",
       "      <th>00005</th>\n",
       "      <td>African_grey</td>\n",
       "      <td>0.668332</td>\n",
       "      <td>vulture</td>\n",
       "      <td>0.091122</td>\n",
       "      <td>albatross</td>\n",
       "      <td>0.025742</td>\n",
       "    </tr>\n",
       "    <tr>\n",
       "      <th>00006</th>\n",
       "      <td>schipperke</td>\n",
       "      <td>0.066566</td>\n",
       "      <td>American_black_bear</td>\n",
       "      <td>0.048919</td>\n",
       "      <td>prison</td>\n",
       "      <td>0.021901</td>\n",
       "    </tr>\n",
       "    <tr>\n",
       "      <th>00007</th>\n",
       "      <td>space_heater</td>\n",
       "      <td>0.885888</td>\n",
       "      <td>Egyptian_cat</td>\n",
       "      <td>0.017458</td>\n",
       "      <td>printer</td>\n",
       "      <td>0.014848</td>\n",
       "    </tr>\n",
       "    <tr>\n",
       "      <th>00008</th>\n",
       "      <td>Siamese_cat</td>\n",
       "      <td>0.939057</td>\n",
       "      <td>window_screen</td>\n",
       "      <td>0.006235</td>\n",
       "      <td>doormat</td>\n",
       "      <td>0.003726</td>\n",
       "    </tr>\n",
       "    <tr>\n",
       "      <th>00009</th>\n",
       "      <td>drilling_platform</td>\n",
       "      <td>0.485906</td>\n",
       "      <td>aircraft_carrier</td>\n",
       "      <td>0.112375</td>\n",
       "      <td>container_ship</td>\n",
       "      <td>0.088699</td>\n",
       "    </tr>\n",
       "  </tbody>\n",
       "</table>\n",
       "</div>"
      ],
      "text/plain": [
       "                  class1  P(class1)               class2  P(class2)  \\\n",
       "00000        black_stork   0.281189              limpkin   0.138756   \n",
       "00001              patio   0.507141           horse_cart   0.101965   \n",
       "00002               kite   0.734416            goldfinch   0.020303   \n",
       "00003          speedboat   0.366849               paddle   0.304516   \n",
       "00004    shopping_basket   0.543007               hamper   0.077754   \n",
       "00005       African_grey   0.668332              vulture   0.091122   \n",
       "00006         schipperke   0.066566  American_black_bear   0.048919   \n",
       "00007       space_heater   0.885888         Egyptian_cat   0.017458   \n",
       "00008        Siamese_cat   0.939057        window_screen   0.006235   \n",
       "00009  drilling_platform   0.485906     aircraft_carrier   0.112375   \n",
       "\n",
       "               class3  P(class3)  \n",
       "00000     white_stork   0.137013  \n",
       "00001          oxcart   0.070453  \n",
       "00002           macaw   0.013203  \n",
       "00003           canoe   0.056017  \n",
       "00004        tricycle   0.045767  \n",
       "00005       albatross   0.025742  \n",
       "00006          prison   0.021901  \n",
       "00007         printer   0.014848  \n",
       "00008         doormat   0.003726  \n",
       "00009  container_ship   0.088699  "
      ]
     },
     "metadata": {},
     "output_type": "display_data"
    }
   ],
   "source": [
    "# Predict the images' class\n",
    "xception_predictor = Xception(include_top=True, weights='imagenet')\n",
    "xception_predictions = predictImages(model=xception_predictor,\n",
    "                                   size=xception_size,\n",
    "                                   preprocess=xception_preprocess,\n",
    "                                   decode_pred=xception_decode)\n",
    "display(xception_predictions)"
   ]
  },
  {
   "cell_type": "code",
   "execution_count": 15,
   "metadata": {},
   "outputs": [],
   "source": [
    "# Features extraction\n",
    "xception_transformer = Xception(weights=\"imagenet\", include_top=False)"
   ]
  },
  {
   "cell_type": "code",
   "execution_count": 16,
   "metadata": {},
   "outputs": [
    {
     "name": "stdout",
     "output_type": "stream",
     "text": [
      "Features extraction minutes: 15.042704033851624\n",
      "[0. 0. 0. ... 0. 0. 0.]\n"
     ]
    }
   ],
   "source": [
    "xception_features = featuresExtraction(xception_transformer, xception_size, xception_preprocess)\n",
    "print(xception_features[0])"
   ]
  },
  {
   "cell_type": "markdown",
   "metadata": {},
   "source": [
    "### InceptionResNetV2"
   ]
  },
  {
   "cell_type": "code",
   "execution_count": 60,
   "metadata": {},
   "outputs": [],
   "source": [
    "# import modules\n",
    "from keras.applications.inception_resnet_v2 import InceptionResNetV2\n",
    "from keras.applications.inception_resnet_v2 import preprocess_input as inception_preprocess\n",
    "from keras.applications.inception_resnet_v2 import decode_predictions as inception_decode\n",
    "\n",
    "# define the image size\n",
    "inception_size = 299"
   ]
  },
  {
   "cell_type": "code",
   "execution_count": 61,
   "metadata": {},
   "outputs": [
    {
     "name": "stdout",
     "output_type": "stream",
     "text": [
      "Prediction time: 16.088445901870728\n"
     ]
    },
    {
     "data": {
      "text/html": [
       "<div>\n",
       "<style scoped>\n",
       "    .dataframe tbody tr th:only-of-type {\n",
       "        vertical-align: middle;\n",
       "    }\n",
       "\n",
       "    .dataframe tbody tr th {\n",
       "        vertical-align: top;\n",
       "    }\n",
       "\n",
       "    .dataframe thead th {\n",
       "        text-align: right;\n",
       "    }\n",
       "</style>\n",
       "<table border=\"1\" class=\"dataframe\">\n",
       "  <thead>\n",
       "    <tr style=\"text-align: right;\">\n",
       "      <th></th>\n",
       "      <th>class1</th>\n",
       "      <th>P(class1)</th>\n",
       "      <th>class2</th>\n",
       "      <th>P(class2)</th>\n",
       "      <th>class3</th>\n",
       "      <th>P(class3)</th>\n",
       "    </tr>\n",
       "  </thead>\n",
       "  <tbody>\n",
       "    <tr>\n",
       "      <th>00000</th>\n",
       "      <td>limpkin</td>\n",
       "      <td>0.354209</td>\n",
       "      <td>redshank</td>\n",
       "      <td>0.184044</td>\n",
       "      <td>black_stork</td>\n",
       "      <td>0.116822</td>\n",
       "    </tr>\n",
       "    <tr>\n",
       "      <th>00001</th>\n",
       "      <td>patio</td>\n",
       "      <td>0.934444</td>\n",
       "      <td>restaurant</td>\n",
       "      <td>0.018608</td>\n",
       "      <td>lakeside</td>\n",
       "      <td>0.009297</td>\n",
       "    </tr>\n",
       "    <tr>\n",
       "      <th>00002</th>\n",
       "      <td>brambling</td>\n",
       "      <td>0.258900</td>\n",
       "      <td>goldfinch</td>\n",
       "      <td>0.257969</td>\n",
       "      <td>kite</td>\n",
       "      <td>0.090909</td>\n",
       "    </tr>\n",
       "    <tr>\n",
       "      <th>00003</th>\n",
       "      <td>speedboat</td>\n",
       "      <td>0.198967</td>\n",
       "      <td>paddle</td>\n",
       "      <td>0.109394</td>\n",
       "      <td>sandbar</td>\n",
       "      <td>0.104126</td>\n",
       "    </tr>\n",
       "    <tr>\n",
       "      <th>00004</th>\n",
       "      <td>power_drill</td>\n",
       "      <td>0.211188</td>\n",
       "      <td>shopping_basket</td>\n",
       "      <td>0.189919</td>\n",
       "      <td>screwdriver</td>\n",
       "      <td>0.143631</td>\n",
       "    </tr>\n",
       "    <tr>\n",
       "      <th>00005</th>\n",
       "      <td>African_grey</td>\n",
       "      <td>0.957284</td>\n",
       "      <td>vulture</td>\n",
       "      <td>0.007387</td>\n",
       "      <td>albatross</td>\n",
       "      <td>0.001660</td>\n",
       "    </tr>\n",
       "    <tr>\n",
       "      <th>00006</th>\n",
       "      <td>cowboy_hat</td>\n",
       "      <td>0.593928</td>\n",
       "      <td>ox</td>\n",
       "      <td>0.192778</td>\n",
       "      <td>worm_fence</td>\n",
       "      <td>0.035793</td>\n",
       "    </tr>\n",
       "    <tr>\n",
       "      <th>00007</th>\n",
       "      <td>space_heater</td>\n",
       "      <td>0.958563</td>\n",
       "      <td>radiator</td>\n",
       "      <td>0.003036</td>\n",
       "      <td>electric_fan</td>\n",
       "      <td>0.000789</td>\n",
       "    </tr>\n",
       "    <tr>\n",
       "      <th>00008</th>\n",
       "      <td>Siamese_cat</td>\n",
       "      <td>0.906933</td>\n",
       "      <td>Egyptian_cat</td>\n",
       "      <td>0.001990</td>\n",
       "      <td>lynx</td>\n",
       "      <td>0.000994</td>\n",
       "    </tr>\n",
       "    <tr>\n",
       "      <th>00009</th>\n",
       "      <td>drilling_platform</td>\n",
       "      <td>0.894426</td>\n",
       "      <td>aircraft_carrier</td>\n",
       "      <td>0.033702</td>\n",
       "      <td>container_ship</td>\n",
       "      <td>0.025612</td>\n",
       "    </tr>\n",
       "  </tbody>\n",
       "</table>\n",
       "</div>"
      ],
      "text/plain": [
       "                  class1  P(class1)            class2  P(class2)  \\\n",
       "00000            limpkin   0.354209          redshank   0.184044   \n",
       "00001              patio   0.934444        restaurant   0.018608   \n",
       "00002          brambling   0.258900         goldfinch   0.257969   \n",
       "00003          speedboat   0.198967            paddle   0.109394   \n",
       "00004        power_drill   0.211188   shopping_basket   0.189919   \n",
       "00005       African_grey   0.957284           vulture   0.007387   \n",
       "00006         cowboy_hat   0.593928                ox   0.192778   \n",
       "00007       space_heater   0.958563          radiator   0.003036   \n",
       "00008        Siamese_cat   0.906933      Egyptian_cat   0.001990   \n",
       "00009  drilling_platform   0.894426  aircraft_carrier   0.033702   \n",
       "\n",
       "               class3  P(class3)  \n",
       "00000     black_stork   0.116822  \n",
       "00001        lakeside   0.009297  \n",
       "00002            kite   0.090909  \n",
       "00003         sandbar   0.104126  \n",
       "00004     screwdriver   0.143631  \n",
       "00005       albatross   0.001660  \n",
       "00006      worm_fence   0.035793  \n",
       "00007    electric_fan   0.000789  \n",
       "00008            lynx   0.000994  \n",
       "00009  container_ship   0.025612  "
      ]
     },
     "metadata": {},
     "output_type": "display_data"
    }
   ],
   "source": [
    "# Predict the images' class\n",
    "inception_predictor = InceptionResNetV2(include_top=True, weights='imagenet')\n",
    "inception_predictions = predictImages(model=inception_predictor,\n",
    "                                   size=inception_size,\n",
    "                                   preprocess=inception_preprocess,\n",
    "                                   decode_pred=inception_decode)\n",
    "display(inception_predictions)"
   ]
  },
  {
   "cell_type": "code",
   "execution_count": null,
   "metadata": {},
   "outputs": [],
   "source": [
    "inception_transformer = InceptionResNetV2(weights=\"imagenet\", include_top=False)"
   ]
  },
  {
   "cell_type": "code",
   "execution_count": 73,
   "metadata": {},
   "outputs": [
    {
     "name": "stdout",
     "output_type": "stream",
     "text": [
      "Features extraction minutes: 23.43153581619263\n"
     ]
    },
    {
     "data": {
      "text/html": [
       "<div>\n",
       "<style scoped>\n",
       "    .dataframe tbody tr th:only-of-type {\n",
       "        vertical-align: middle;\n",
       "    }\n",
       "\n",
       "    .dataframe tbody tr th {\n",
       "        vertical-align: top;\n",
       "    }\n",
       "\n",
       "    .dataframe thead th {\n",
       "        text-align: right;\n",
       "    }\n",
       "</style>\n",
       "<table border=\"1\" class=\"dataframe\">\n",
       "  <thead>\n",
       "    <tr style=\"text-align: right;\">\n",
       "      <th></th>\n",
       "      <th>0</th>\n",
       "      <th>1</th>\n",
       "      <th>2</th>\n",
       "      <th>3</th>\n",
       "      <th>4</th>\n",
       "      <th>5</th>\n",
       "      <th>6</th>\n",
       "      <th>7</th>\n",
       "      <th>8</th>\n",
       "      <th>9</th>\n",
       "      <th>...</th>\n",
       "      <th>98294</th>\n",
       "      <th>98295</th>\n",
       "      <th>98296</th>\n",
       "      <th>98297</th>\n",
       "      <th>98298</th>\n",
       "      <th>98299</th>\n",
       "      <th>98300</th>\n",
       "      <th>98301</th>\n",
       "      <th>98302</th>\n",
       "      <th>98303</th>\n",
       "    </tr>\n",
       "  </thead>\n",
       "  <tbody>\n",
       "    <tr>\n",
       "      <th>0</th>\n",
       "      <td>0.000000</td>\n",
       "      <td>0.000000</td>\n",
       "      <td>0.000000</td>\n",
       "      <td>0.0</td>\n",
       "      <td>0.000000</td>\n",
       "      <td>0.000000</td>\n",
       "      <td>0.0</td>\n",
       "      <td>0.000000</td>\n",
       "      <td>0.000000</td>\n",
       "      <td>0.000000</td>\n",
       "      <td>...</td>\n",
       "      <td>0.000000</td>\n",
       "      <td>0.000000</td>\n",
       "      <td>0.000000</td>\n",
       "      <td>0.000000</td>\n",
       "      <td>0.000000</td>\n",
       "      <td>0.000000</td>\n",
       "      <td>0.000000</td>\n",
       "      <td>0.000000</td>\n",
       "      <td>0.000000</td>\n",
       "      <td>0.000000</td>\n",
       "    </tr>\n",
       "    <tr>\n",
       "      <th>1</th>\n",
       "      <td>0.000000</td>\n",
       "      <td>0.000000</td>\n",
       "      <td>0.161820</td>\n",
       "      <td>0.0</td>\n",
       "      <td>0.000000</td>\n",
       "      <td>0.000000</td>\n",
       "      <td>0.0</td>\n",
       "      <td>0.000000</td>\n",
       "      <td>0.000000</td>\n",
       "      <td>0.000000</td>\n",
       "      <td>...</td>\n",
       "      <td>1.205772</td>\n",
       "      <td>0.000000</td>\n",
       "      <td>1.876668</td>\n",
       "      <td>0.000000</td>\n",
       "      <td>0.000000</td>\n",
       "      <td>0.511738</td>\n",
       "      <td>0.000000</td>\n",
       "      <td>0.097872</td>\n",
       "      <td>1.742356</td>\n",
       "      <td>0.101525</td>\n",
       "    </tr>\n",
       "    <tr>\n",
       "      <th>2</th>\n",
       "      <td>0.531742</td>\n",
       "      <td>0.000000</td>\n",
       "      <td>0.000000</td>\n",
       "      <td>0.0</td>\n",
       "      <td>0.135945</td>\n",
       "      <td>0.000000</td>\n",
       "      <td>0.0</td>\n",
       "      <td>0.000000</td>\n",
       "      <td>0.000000</td>\n",
       "      <td>0.000000</td>\n",
       "      <td>...</td>\n",
       "      <td>0.348137</td>\n",
       "      <td>0.967040</td>\n",
       "      <td>0.000000</td>\n",
       "      <td>0.276122</td>\n",
       "      <td>0.876260</td>\n",
       "      <td>0.243328</td>\n",
       "      <td>0.000000</td>\n",
       "      <td>0.675683</td>\n",
       "      <td>1.031659</td>\n",
       "      <td>0.000000</td>\n",
       "    </tr>\n",
       "    <tr>\n",
       "      <th>3</th>\n",
       "      <td>0.000000</td>\n",
       "      <td>0.000000</td>\n",
       "      <td>0.154089</td>\n",
       "      <td>0.0</td>\n",
       "      <td>0.000000</td>\n",
       "      <td>0.000000</td>\n",
       "      <td>0.0</td>\n",
       "      <td>0.203061</td>\n",
       "      <td>0.000000</td>\n",
       "      <td>0.124394</td>\n",
       "      <td>...</td>\n",
       "      <td>0.000000</td>\n",
       "      <td>0.210872</td>\n",
       "      <td>0.173454</td>\n",
       "      <td>0.000000</td>\n",
       "      <td>0.160510</td>\n",
       "      <td>0.000000</td>\n",
       "      <td>0.000000</td>\n",
       "      <td>0.000000</td>\n",
       "      <td>0.000000</td>\n",
       "      <td>0.000000</td>\n",
       "    </tr>\n",
       "    <tr>\n",
       "      <th>4</th>\n",
       "      <td>0.000000</td>\n",
       "      <td>0.293457</td>\n",
       "      <td>0.000000</td>\n",
       "      <td>0.0</td>\n",
       "      <td>0.000000</td>\n",
       "      <td>1.365147</td>\n",
       "      <td>0.0</td>\n",
       "      <td>0.000000</td>\n",
       "      <td>1.020301</td>\n",
       "      <td>0.000000</td>\n",
       "      <td>...</td>\n",
       "      <td>0.000000</td>\n",
       "      <td>0.000000</td>\n",
       "      <td>0.000000</td>\n",
       "      <td>0.000000</td>\n",
       "      <td>0.206946</td>\n",
       "      <td>0.000000</td>\n",
       "      <td>0.079383</td>\n",
       "      <td>0.000000</td>\n",
       "      <td>0.000000</td>\n",
       "      <td>0.000000</td>\n",
       "    </tr>\n",
       "  </tbody>\n",
       "</table>\n",
       "<p>5 rows × 98304 columns</p>\n",
       "</div>"
      ],
      "text/plain": [
       "      0         1         2      3         4         5      6         7      \\\n",
       "0  0.000000  0.000000  0.000000    0.0  0.000000  0.000000    0.0  0.000000   \n",
       "1  0.000000  0.000000  0.161820    0.0  0.000000  0.000000    0.0  0.000000   \n",
       "2  0.531742  0.000000  0.000000    0.0  0.135945  0.000000    0.0  0.000000   \n",
       "3  0.000000  0.000000  0.154089    0.0  0.000000  0.000000    0.0  0.203061   \n",
       "4  0.000000  0.293457  0.000000    0.0  0.000000  1.365147    0.0  0.000000   \n",
       "\n",
       "      8         9        ...        98294     98295     98296     98297  \\\n",
       "0  0.000000  0.000000    ...     0.000000  0.000000  0.000000  0.000000   \n",
       "1  0.000000  0.000000    ...     1.205772  0.000000  1.876668  0.000000   \n",
       "2  0.000000  0.000000    ...     0.348137  0.967040  0.000000  0.276122   \n",
       "3  0.000000  0.124394    ...     0.000000  0.210872  0.173454  0.000000   \n",
       "4  1.020301  0.000000    ...     0.000000  0.000000  0.000000  0.000000   \n",
       "\n",
       "      98298     98299     98300     98301     98302     98303  \n",
       "0  0.000000  0.000000  0.000000  0.000000  0.000000  0.000000  \n",
       "1  0.000000  0.511738  0.000000  0.097872  1.742356  0.101525  \n",
       "2  0.876260  0.243328  0.000000  0.675683  1.031659  0.000000  \n",
       "3  0.160510  0.000000  0.000000  0.000000  0.000000  0.000000  \n",
       "4  0.206946  0.000000  0.079383  0.000000  0.000000  0.000000  \n",
       "\n",
       "[5 rows x 98304 columns]"
      ]
     },
     "metadata": {},
     "output_type": "display_data"
    }
   ],
   "source": [
    "inception_features = featuresExtraction(inception_transformer, inception_size, inception_preprocess)\n",
    "display(inception_features.head())"
   ]
  },
  {
   "cell_type": "markdown",
   "metadata": {},
   "source": [
    "## Dimensions Reduction\n",
    "\n",
    "Since there are still many features after features extraction, I will try to apply PCA to reduce the dimensions."
   ]
  },
  {
   "cell_type": "code",
   "execution_count": 19,
   "metadata": {},
   "outputs": [],
   "source": [
    "from sklearn.decomposition import PCA\n",
    "\n",
    "def pca_transform(features_df, n_components=None):\n",
    "    # PCA transformation\n",
    "    pca = PCA(n_components=n_components, random_state=728)\n",
    "    output = pca.fit_transform(features_df)\n",
    "    \n",
    "    # plot the cumulative explained variance plot\n",
    "    plt.plot(np.cumsum(pca.explained_variance_ratio_))\n",
    "    plt.xlabel('number of components')\n",
    "    plt.ylabel('cumulative explained variance')\n",
    "    plt.show()\n",
    "    \n",
    "    return pca, output"
   ]
  },
  {
   "cell_type": "markdown",
   "metadata": {},
   "source": [
    "### InceptionResNetV2"
   ]
  },
  {
   "cell_type": "code",
   "execution_count": 78,
   "metadata": {},
   "outputs": [
    {
     "data": {
      "image/png": "[encoded data removed]",
      "text/plain": [
       "<Figure size 432x288 with 1 Axes>"
      ]
     },
     "metadata": {
      "needs_background": "light"
     },
     "output_type": "display_data"
    },
    {
     "data": {
      "text/plain": [
       "(5011, 5011)"
      ]
     },
     "execution_count": 78,
     "metadata": {},
     "output_type": "execute_result"
    }
   ],
   "source": [
    "inception_pca, inception_pca_features = pca_transform(inception_features)\n",
    "inception_pca_df = pd.DataFrame(inception_pca_features)\n",
    "inception_pca_df.shape"
   ]
  },
  {
   "cell_type": "code",
   "execution_count": null,
   "metadata": {},
   "outputs": [],
   "source": [
    "# store to file\n",
    "inception_pca_df.to_csv(\"inception_pca.csv\", index=False)"
   ]
  },
  {
   "cell_type": "markdown",
   "metadata": {},
   "source": [
    "### ResNet50"
   ]
  },
  {
   "cell_type": "code",
   "execution_count": 93,
   "metadata": {},
   "outputs": [
    {
     "data": {
      "image/png": "[encoded data removed]",
      "text/plain": [
       "<Figure size 432x288 with 1 Axes>"
      ]
     },
     "metadata": {
      "needs_background": "light"
     },
     "output_type": "display_data"
    },
    {
     "data": {
      "text/plain": [
       "(5011, 5011)"
      ]
     },
     "execution_count": 93,
     "metadata": {},
     "output_type": "execute_result"
    }
   ],
   "source": [
    "resnet_pca, resnet_pca_features = pca_transform(resnet_features)\n",
    "resnet_pca_df = pd.DataFrame(resnet_pca_features)\n",
    "resnet_pca_df.shape"
   ]
  },
  {
   "cell_type": "markdown",
   "metadata": {},
   "source": [
    "### VGG16"
   ]
  },
  {
   "cell_type": "code",
   "execution_count": 94,
   "metadata": {},
   "outputs": [
    {
     "data": {
      "image/png": "[encoded data removed]",
      "text/plain": [
       "<Figure size 432x288 with 1 Axes>"
      ]
     },
     "metadata": {
      "needs_background": "light"
     },
     "output_type": "display_data"
    },
    {
     "data": {
      "text/plain": [
       "(5011, 5011)"
      ]
     },
     "execution_count": 94,
     "metadata": {},
     "output_type": "execute_result"
    }
   ],
   "source": [
    "vgg16_pca, vgg16_pca_features = pca_transform(vgg16_features)\n",
    "vgg16_pca_df = pd.DataFrame(vgg16_pca_features)\n",
    "vgg16_pca_df.shape"
   ]
  },
  {
   "cell_type": "markdown",
   "metadata": {},
   "source": [
    "### Xception"
   ]
  },
  {
   "cell_type": "code",
   "execution_count": 132,
   "metadata": {},
   "outputs": [
    {
     "data": {
      "image/png": "[encoded data removed]",
      "text/plain": [
       "<Figure size 432x288 with 1 Axes>"
      ]
     },
     "metadata": {
      "needs_background": "light"
     },
     "output_type": "display_data"
    },
    {
     "data": {
      "text/plain": [
       "(5011, 5011)"
      ]
     },
     "execution_count": 132,
     "metadata": {},
     "output_type": "execute_result"
    }
   ],
   "source": [
    "xception_pca, xception_pca_features = pca_transform(xception_features)\n",
    "xception_pca_df = pd.DataFrame(xception_pca_features)\n",
    "xception_pca_df.shape"
   ]
  },
  {
   "cell_type": "markdown",
   "metadata": {},
   "source": [
    "## Clustering"
   ]
  },
  {
   "cell_type": "markdown",
   "metadata": {},
   "source": [
    "### Find out the suitable CovNet & K value"
   ]
  },
  {
   "cell_type": "code",
   "execution_count": 23,
   "metadata": {},
   "outputs": [],
   "source": [
    "from sklearn.cluster import KMeans\n",
    "from sklearn.mixture import GaussianMixture\n",
    "from sklearn.metrics import silhouette_score\n",
    "\n",
    "def silhouetteScore(dimension, pca_data, k_range):\n",
    "    # Select the top N features\n",
    "    train_data = []\n",
    "    for i in range(len(pca_data)):\n",
    "        train_data.append(pca_data[i][:dimension])\n",
    "\n",
    "    train_data = np.array(train_data)\n",
    "    print(train_data.shape)\n",
    "\n",
    "    # Get the silhouette score list\n",
    "    silhouette_list = []\n",
    "    print(\"\\n### Using the method of KMeans:\")\n",
    "    for n_clusters in k_range:\n",
    "        clusterer = KMeans(n_clusters=n_clusters, algorithm=\"elkan\", random_state=0).fit(train_data)\n",
    "        preds = clusterer.predict(train_data)\n",
    "        centers = clusterer.cluster_centers_\n",
    "        score = silhouette_score(train_data, preds)\n",
    "        silhouette_list.append(score)\n",
    "        print(\"n_clusters = {}, silhouette_score: {:.4f}\".format(n_clusters, score))\n",
    "\n",
    "    return silhouette_list\n"
   ]
  },
  {
   "cell_type": "code",
   "execution_count": null,
   "metadata": {},
   "outputs": [],
   "source": [
    "# Compute the silhouette score with different CovNets PCA features\n",
    "k_range = range(10, 30, 2)\n",
    "inception_silhouette_scores = silhouetteScore(3000, inception_pca_features, k_range)\n",
    "resnet_silhouette_scores = silhouetteScore(3000, resnet_pca_features, k_range)\n",
    "vgg16_silhouette_scores = silhouetteScore(3000, vgg16_pca_features, k_range)\n",
    "xception_silhouette_scores = silhouetteScore(3000, xception_pca_features, k_range)\n"
   ]
  },
  {
   "cell_type": "code",
   "execution_count": 176,
   "metadata": {},
   "outputs": [
    {
     "data": {
      "image/png": "[encoded data removed]",
      "text/plain": [
       "<Figure size 1080x360 with 1 Axes>"
      ]
     },
     "metadata": {
      "needs_background": "light"
     },
     "output_type": "display_data"
    }
   ],
   "source": [
    "# Credit: Josh Hemann\n",
    "\n",
    "import numpy as np\n",
    "import matplotlib.pyplot as plt\n",
    "from matplotlib.ticker import MaxNLocator\n",
    "from collections import namedtuple\n",
    "\n",
    "\n",
    "n_clusters = len(resnet_silhouette_scores)\n",
    "silhouette_scores = [inception_silhouette_scores,\n",
    "                    resnet_silhouette_scores,\n",
    "                    vgg16_silhouette_scores,\n",
    "                    xception_silhouette_scores]\n",
    "\n",
    "\n",
    "fig, ax = plt.subplots(figsize=(15, 5))\n",
    "\n",
    "index = np.arange(3, 4*n_clusters, 4)\n",
    "bar_width = 0.7\n",
    "\n",
    "opacity = 0.5\n",
    "error_config = {'ecolor': '0.3'}\n",
    "\n",
    "labels_list = ['InceptionResNetV2', 'ResNet50', 'VGG16', 'Xception']\n",
    "colors = ['b', 'r', 'g', 'y']\n",
    "means = [means_men, means_women]\n",
    "\n",
    "for i, (score, color, label) in enumerate(zip(silhouette_scores, colors, labels_list)):\n",
    "    rects1 = ax.bar(x=index + bar_width*i,\n",
    "                    height=score,\n",
    "                    width=bar_width,\n",
    "                    alpha=opacity,\n",
    "                    color=color,\n",
    "                    error_kw=error_config,\n",
    "                    label=label)\n",
    "\n",
    "\n",
    "ax.set_xlabel('number of clusters')\n",
    "ax.set_ylabel('Silhouette Scores')\n",
    "ax.set_title('Silhouette Score by K & CovNets')\n",
    "ax.set_xticks(index + bar_width)\n",
    "ax.set_xticklabels(list(k_range))\n",
    "ax.legend()\n",
    "\n",
    "# fig.tight_layout()\n",
    "plt.show()"
   ]
  },
  {
   "cell_type": "markdown",
   "metadata": {},
   "source": [
    "### ResNet50 with 16 clusters\n",
    "\n",
    "From the above picture, it is quite obvious that **ResNet50** can lead to a relatively high silhouette score. Thus, we will choose the PCA Featreus from ResNet50 to make some prediction."
   ]
  },
  {
   "cell_type": "markdown",
   "metadata": {},
   "source": [
    "#### Optimal K in Elbow Curve "
   ]
  },
  {
   "cell_type": "code",
   "execution_count": 107,
   "metadata": {},
   "outputs": [],
   "source": [
    "from sklearn.cluster import KMeans\n",
    "from sklearn import metrics\n",
    "from scipy.spatial.distance import cdist\n",
    "import numpy as np\n",
    "import matplotlib.pyplot as plt\n",
    "\n",
    "def draw_elbow_curve(dimension, pca_data, elbow_range):\n",
    "    # define the pca data\n",
    "    pca_data = inception_pca_features\n",
    "\n",
    "    # define the training data\n",
    "    train_data = []\n",
    "    for i in range(len(pca_data)):\n",
    "        train_data.append(pca_data[i][:dimension])\n",
    "    train_data = np.array(train_data)\n",
    "\n",
    "    distortions = []\n",
    "    for k in elbow_range:\n",
    "        print(\"======={}========\".format(k))\n",
    "        kmeanModel = KMeans(n_clusters=k, algorithm=\"elkan\", random_state=0)\n",
    "        kmeanModel.fit(train_data)\n",
    "        distortions.append(sum(np.min(cdist(train_data, kmeanModel.cluster_centers_, 'euclidean'), axis=1)) / train_data.shape[0])\n",
    "\n",
    "    # Plot the elbow\n",
    "    plt.plot(elbow_range, distortions, 'bx-')\n",
    "    plt.xlabel('k')\n",
    "    plt.ylabel('Distortion')\n",
    "    plt.title('The Elbow Method showing the optimal k')\n",
    "    plt.show()\n"
   ]
  },
  {
   "cell_type": "code",
   "execution_count": 177,
   "metadata": {},
   "outputs": [
    {
     "name": "stdout",
     "output_type": "stream",
     "text": [
      "=======10========\n",
      "=======12========\n",
      "=======14========\n",
      "=======16========\n",
      "=======18========\n",
      "=======20========\n",
      "=======22========\n",
      "=======24========\n",
      "=======26========\n",
      "=======28========\n"
     ]
    },
    {
     "data": {
      "image/png": "[encoded data removed]",
      "text/plain": [
       "<Figure size 432x288 with 1 Axes>"
      ]
     },
     "metadata": {
      "needs_background": "light"
     },
     "output_type": "display_data"
    }
   ],
   "source": [
    "draw_elbow_curve(dimension=3000,\n",
    "                 pca_data=resnet_pca_features,\n",
    "                 elbow_range=k_range)"
   ]
  },
  {
   "cell_type": "markdown",
   "metadata": {},
   "source": [
    "From the elbow curve, it's quite obvious that **16** can be the elbow value. Thus, we will choose 16 clusters for prediction."
   ]
  },
  {
   "cell_type": "markdown",
   "metadata": {},
   "source": [
    "#### KMeans Clustering"
   ]
  },
  {
   "cell_type": "code",
   "execution_count": 242,
   "metadata": {},
   "outputs": [],
   "source": [
    "def KMeansClustering(k, dimension, pca_data):\n",
    "    # define the training data\n",
    "    train_data = []\n",
    "    for i in range(len(pca_data)):\n",
    "        train_data.append(pca_data[i][:dimension])\n",
    "    \n",
    "    train_data = np.array(train_data)\n",
    "    \n",
    "    # make predictions\n",
    "    model = KMeans(n_clusters=k, n_jobs=-1, algorithm='elkan', random_state=100)\n",
    "    model.fit(train_data)\n",
    "    clusters_pred = model.predict(train_data)\n",
    "    \n",
    "    return clusters_pred\n",
    "    "
   ]
  },
  {
   "cell_type": "code",
   "execution_count": 179,
   "metadata": {},
   "outputs": [],
   "source": [
    "# make prediction with kmeans\n",
    "kmeans_k = 16\n",
    "kmeans_d = 3000\n",
    "pca_data = resnet_pca_features\n",
    "kmeans_pred = KMeansClustering(kmeans_k, kmeans_d, pca_data)\n"
   ]
  },
  {
   "cell_type": "code",
   "execution_count": 220,
   "metadata": {},
   "outputs": [],
   "source": [
    "def PredictionDict(pred_arr, k):\n",
    "    '''\n",
    "    Get the dictionary from the predictions array\n",
    "    ''' \n",
    "    # store the predictions into dictionary\n",
    "    clusters_dict = {}\n",
    "    \n",
    "    # initialize the Series for each cluster key\n",
    "    for i in range(k):\n",
    "        clusters_dict[i] = []\n",
    "\n",
    "    #   Key: the index of K\n",
    "    # Value: the index string of the image\n",
    "    for i, k_index in enumerate(pred_arr):\n",
    "        value = img_names_df['names'][i].replace('.jpg', '')\n",
    "        clusters_dict[k_index].append(value)\n",
    "        \n",
    "    # Transfer the value into Series so the dictionary\n",
    "    # can be transformed into DataFrame\n",
    "    for key, value in clusters_dict.items():\n",
    "        clusters_dict[key] = pd.Series(value)\n",
    "    \n",
    "    return clusters_dict\n",
    "        "
   ]
  },
  {
   "cell_type": "code",
   "execution_count": null,
   "metadata": {},
   "outputs": [],
   "source": [
    "'''\n",
    "Write the prediction result to file\n",
    "'''\n",
    "clusters_pred_dict = PredictionDict(kmeans_pred, kmeans_k)\n",
    "clusters_pred_dict.keys()\n",
    "\n",
    "clusters_cols_dict = {}\n",
    "for i in range(kmeans_k):\n",
    "    clusters_cols_dict[i] = 'cluster{}'.format(i+1)\n",
    "\n",
    "clusters_pred_pd = pd.DataFrame.from_dict(clusters_pred_dict)\n",
    "clusters_pred_pd = clusters_pred_pd.rename(clusters_cols_dict, axis='columns')"
   ]
  },
  {
   "cell_type": "code",
   "execution_count": 237,
   "metadata": {},
   "outputs": [
    {
     "data": {
      "text/html": [
       "<div>\n",
       "<style scoped>\n",
       "    .dataframe tbody tr th:only-of-type {\n",
       "        vertical-align: middle;\n",
       "    }\n",
       "\n",
       "    .dataframe tbody tr th {\n",
       "        vertical-align: top;\n",
       "    }\n",
       "\n",
       "    .dataframe thead th {\n",
       "        text-align: right;\n",
       "    }\n",
       "</style>\n",
       "<table border=\"1\" class=\"dataframe\">\n",
       "  <thead>\n",
       "    <tr style=\"text-align: right;\">\n",
       "      <th></th>\n",
       "      <th>cluster1</th>\n",
       "      <th>cluster2</th>\n",
       "      <th>cluster3</th>\n",
       "      <th>cluster4</th>\n",
       "      <th>cluster5</th>\n",
       "      <th>cluster6</th>\n",
       "      <th>cluster7</th>\n",
       "      <th>cluster8</th>\n",
       "      <th>cluster9</th>\n",
       "      <th>cluster10</th>\n",
       "      <th>...</th>\n",
       "      <th>cluster15</th>\n",
       "      <th>cluster16</th>\n",
       "      <th>cluster17</th>\n",
       "      <th>cluster18</th>\n",
       "      <th>cluster19</th>\n",
       "      <th>cluster20</th>\n",
       "      <th>cluster21</th>\n",
       "      <th>cluster22</th>\n",
       "      <th>cluster23</th>\n",
       "      <th>cluster24</th>\n",
       "    </tr>\n",
       "  </thead>\n",
       "  <tbody>\n",
       "    <tr>\n",
       "      <th>0</th>\n",
       "      <td>00000</td>\n",
       "      <td>00002</td>\n",
       "      <td>00046</td>\n",
       "      <td>00065</td>\n",
       "      <td>00018</td>\n",
       "      <td>00267</td>\n",
       "      <td>00017</td>\n",
       "      <td>00028</td>\n",
       "      <td>00019</td>\n",
       "      <td>00011</td>\n",
       "      <td>...</td>\n",
       "      <td>00025</td>\n",
       "      <td>00007</td>\n",
       "      <td>00035</td>\n",
       "      <td>00032</td>\n",
       "      <td>00012</td>\n",
       "      <td>00010</td>\n",
       "      <td>00001</td>\n",
       "      <td>00036</td>\n",
       "      <td>00137</td>\n",
       "      <td>00005</td>\n",
       "    </tr>\n",
       "    <tr>\n",
       "      <th>1</th>\n",
       "      <td>00013</td>\n",
       "      <td>00003</td>\n",
       "      <td>00248</td>\n",
       "      <td>00072</td>\n",
       "      <td>00022</td>\n",
       "      <td>00305</td>\n",
       "      <td>00066</td>\n",
       "      <td>00049</td>\n",
       "      <td>00024</td>\n",
       "      <td>00020</td>\n",
       "      <td>...</td>\n",
       "      <td>00044</td>\n",
       "      <td>00008</td>\n",
       "      <td>00057</td>\n",
       "      <td>00034</td>\n",
       "      <td>00031</td>\n",
       "      <td>00021</td>\n",
       "      <td>00006</td>\n",
       "      <td>00067</td>\n",
       "      <td>00213</td>\n",
       "      <td>00052</td>\n",
       "    </tr>\n",
       "    <tr>\n",
       "      <th>2</th>\n",
       "      <td>00014</td>\n",
       "      <td>00004</td>\n",
       "      <td>00300</td>\n",
       "      <td>00091</td>\n",
       "      <td>00026</td>\n",
       "      <td>00649</td>\n",
       "      <td>00082</td>\n",
       "      <td>00071</td>\n",
       "      <td>00027</td>\n",
       "      <td>00037</td>\n",
       "      <td>...</td>\n",
       "      <td>00079</td>\n",
       "      <td>00016</td>\n",
       "      <td>00064</td>\n",
       "      <td>00190</td>\n",
       "      <td>00038</td>\n",
       "      <td>00123</td>\n",
       "      <td>00015</td>\n",
       "      <td>00077</td>\n",
       "      <td>00277</td>\n",
       "      <td>00055</td>\n",
       "    </tr>\n",
       "    <tr>\n",
       "      <th>3</th>\n",
       "      <td>00047</td>\n",
       "      <td>00009</td>\n",
       "      <td>00325</td>\n",
       "      <td>00152</td>\n",
       "      <td>00104</td>\n",
       "      <td>00756</td>\n",
       "      <td>00111</td>\n",
       "      <td>00073</td>\n",
       "      <td>00033</td>\n",
       "      <td>00060</td>\n",
       "      <td>...</td>\n",
       "      <td>00088</td>\n",
       "      <td>00039</td>\n",
       "      <td>00095</td>\n",
       "      <td>00240</td>\n",
       "      <td>00048</td>\n",
       "      <td>00128</td>\n",
       "      <td>00029</td>\n",
       "      <td>00097</td>\n",
       "      <td>00285</td>\n",
       "      <td>00061</td>\n",
       "    </tr>\n",
       "    <tr>\n",
       "      <th>4</th>\n",
       "      <td>00051</td>\n",
       "      <td>00030</td>\n",
       "      <td>00551</td>\n",
       "      <td>00188</td>\n",
       "      <td>00105</td>\n",
       "      <td>00837</td>\n",
       "      <td>00182</td>\n",
       "      <td>00085</td>\n",
       "      <td>00189</td>\n",
       "      <td>00069</td>\n",
       "      <td>...</td>\n",
       "      <td>00161</td>\n",
       "      <td>00070</td>\n",
       "      <td>00100</td>\n",
       "      <td>00351</td>\n",
       "      <td>00099</td>\n",
       "      <td>00138</td>\n",
       "      <td>00042</td>\n",
       "      <td>00118</td>\n",
       "      <td>00296</td>\n",
       "      <td>00076</td>\n",
       "    </tr>\n",
       "  </tbody>\n",
       "</table>\n",
       "<p>5 rows × 24 columns</p>\n",
       "</div>"
      ],
      "text/plain": [
       "  cluster1 cluster2 cluster3 cluster4 cluster5 cluster6 cluster7 cluster8  \\\n",
       "0    00000    00002    00046    00065    00018    00267    00017    00028   \n",
       "1    00013    00003    00248    00072    00022    00305    00066    00049   \n",
       "2    00014    00004    00300    00091    00026    00649    00082    00071   \n",
       "3    00047    00009    00325    00152    00104    00756    00111    00073   \n",
       "4    00051    00030    00551    00188    00105    00837    00182    00085   \n",
       "\n",
       "  cluster9 cluster10    ...    cluster15 cluster16 cluster17 cluster18  \\\n",
       "0    00019     00011    ...        00025     00007     00035     00032   \n",
       "1    00024     00020    ...        00044     00008     00057     00034   \n",
       "2    00027     00037    ...        00079     00016     00064     00190   \n",
       "3    00033     00060    ...        00088     00039     00095     00240   \n",
       "4    00189     00069    ...        00161     00070     00100     00351   \n",
       "\n",
       "  cluster19 cluster20 cluster21 cluster22 cluster23 cluster24  \n",
       "0     00012     00010     00001     00036     00137     00005  \n",
       "1     00031     00021     00006     00067     00213     00052  \n",
       "2     00038     00123     00015     00077     00277     00055  \n",
       "3     00048     00128     00029     00097     00285     00061  \n",
       "4     00099     00138     00042     00118     00296     00076  \n",
       "\n",
       "[5 rows x 24 columns]"
      ]
     },
     "execution_count": 237,
     "metadata": {},
     "output_type": "execute_result"
    }
   ],
   "source": [
    "clusters_pred_pd.to_csv('resnet_predictions.csv', index=False)\n",
    "clusters_pred_pd.head()"
   ]
  },
  {
   "cell_type": "markdown",
   "metadata": {},
   "source": [
    "### Xception with 24 Clusters\n",
    "\n",
    "From the silhouette score distribution bar chart, it is quite obvious that Xception with 24 clusters have a sudden increase. Thus, I would try 24 clusters with PCA features from Xception."
   ]
  },
  {
   "cell_type": "code",
   "execution_count": 249,
   "metadata": {},
   "outputs": [],
   "source": [
    "# make prediction with kmeans\n",
    "kmeans_k = 24\n",
    "kmeans_d = 3000\n",
    "pca_data = xception_pca_features\n",
    "xception_kmeans_pred = KMeansClustering(kmeans_k, kmeans_d, pca_data)"
   ]
  },
  {
   "cell_type": "code",
   "execution_count": 264,
   "metadata": {},
   "outputs": [],
   "source": [
    "'''\n",
    "Write the prediction result to file\n",
    "'''\n",
    "clusters_pred_dict = PredictionDict(xception_kmeans_pred, kmeans_k)\n",
    "clusters_cols_dict = {}\n",
    "for i in range(kmeans_k):\n",
    "    clusters_cols_dict[i] = 'cluster{}'.format(i+1)\n",
    "\n",
    "clusters_pred_pd = pd.DataFrame.from_dict(clusters_pred_dict)\n",
    "clusters_pred_pd = clusters_pred_pd.rename(clusters_cols_dict, axis='columns')"
   ]
  },
  {
   "cell_type": "code",
   "execution_count": null,
   "metadata": {},
   "outputs": [],
   "source": [
    "import math\n",
    "xception_predictions_df = clusters_pred_pd.applymap(lambda x: '\\'{}\\''.format(x))\n",
    "xception_predictions_df = xception_predictions_df.applymap(lambda x: '' if x=='\\'nan\\'' else x)\n",
    "xception_predictions_df.to_csv(\"xception_predictions.csv\", index=False)"
   ]
  },
  {
   "cell_type": "markdown",
   "metadata": {},
   "source": [
    "### Comparision"
   ]
  },
  {
   "cell_type": "markdown",
   "metadata": {},
   "source": [
    "Finally, I try to judge whether these 2 models are good by my own eyes. The following results is what I label the clusters.\n",
    "\n",
    "#### ResNet50 PCA Clustering with KMeans\n",
    "| Cluster | Label |\n",
    "| :-----: | :---: |\n",
    "| cluster1| plane |\n",
    "| cluster2| cat, dog |\n",
    "| cluster3| bus, train |\n",
    "| cluster4| **NOT CLEAR** |\n",
    "| cluster5| **NOT CLEAR** |\n",
    "| cluster6| restaurant, dinner |\n",
    "| cluster7| dogs, cows, sheep |\n",
    "| cluster8| human faces |\n",
    "| cluster9| bicycle, motorcycle |\n",
    "|cluster10| living room |\n",
    "|cluster11| people |\n",
    "|cluster12| car |\n",
    "|cluster13| birds |\n",
    "|cluster14| bird |\n",
    "|cluster15| horses |\n",
    "|cluster16| **NOT CLEAR** |\n",
    "\n",
    "#### Xception PCA Clustering with KMeans\n",
    "| Cluster | Label |\n",
    "| :-----: | :---: |\n",
    "| cluster1| computers, work room |\n",
    "| cluster2| car(for common drive) |\n",
    "| cluster3| bus |\n",
    "| cluster4| human |\n",
    "| cluster5| horse |\n",
    "| cluster6| restaurant |\n",
    "| cluster7| train |\n",
    "| cluster8| motorcyle |\n",
    "| cluster9| living room |\n",
    "|cluster10| **NOT CLEAR**(ship, animals) |\n",
    "|cluster11| **NOT CLEAR** |\n",
    "|cluster12| bicycle |\n",
    "|cluster13| cat |\n",
    "|cluster14| sport car |\n",
    "|cluster15| human face |\n",
    "|cluster16| dog |\n",
    "|cluster17| car(street, park, road) |\n",
    "|cluster18| plane |\n",
    "|cluster19| sheep, cow |\n",
    "|cluster20| car(more fancy) |\n",
    "|cluster21| train |\n",
    "|cluster22| bird |\n",
    "|cluster23| motorcycle, bicycle |\n",
    "|cluster24| dog, animals |"
   ]
  },
  {
   "cell_type": "markdown",
   "metadata": {},
   "source": [
    "## Conclusion"
   ]
  },
  {
   "cell_type": "markdown",
   "metadata": {},
   "source": [
    "From the above comparision, I would like to draw a conclusion that the clusters by Xception Features Extraction and KMeans clustering have a better images segmentations."
   ]
  },
  {
   "cell_type": "code",
   "execution_count": 311,
   "metadata": {},
   "outputs": [],
   "source": [
    "xception_predictions_df.to_csv(\"A3_dzhengah_20546139_prediction.csv\", index=False)"
   ]
  }
 ],
 "metadata": {
  "kernelspec": {
   "display_name": "Python 3",
   "language": "python",
   "name": "python3"
  },
  "language_info": {
   "codemirror_mode": {
    "name": "ipython",
    "version": 3
   },
   "file_extension": ".py",
   "mimetype": "text/x-python",
   "name": "python",
   "nbconvert_exporter": "python",
   "pygments_lexer": "ipython3",
   "version": "3.5.6"
  },
  "toc": {
   "base_numbering": 1,
   "nav_menu": {},
   "number_sections": true,
   "sideBar": true,
   "skip_h1_title": true,
   "title_cell": "Table of Contents",
   "title_sidebar": "Contents",
   "toc_cell": false,
   "toc_position": {
    "height": "calc(100% - 180px)",
    "left": "10px",
    "top": "150px",
    "width": "165px"
   },
   "toc_section_display": true,
   "toc_window_display": true
  }
 },
 "nbformat": 4,
 "nbformat_minor": 2
}
